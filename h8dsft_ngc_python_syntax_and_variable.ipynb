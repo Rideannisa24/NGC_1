{
 "cells": [
  {
   "cell_type": "markdown",
   "metadata": {},
   "source": [
    "Nama: Rizqia Dewi Annisa\n",
    "\n",
    "Batch: 010"
   ]
  },
  {
   "cell_type": "markdown",
   "metadata": {},
   "source": [
    "TASK #1\n",
    "\n",
    "How many unique customer_id from above list?"
   ]
  },
  {
   "cell_type": "code",
   "execution_count": 29,
   "metadata": {},
   "outputs": [
    {
     "name": "stdout",
     "output_type": "stream",
     "text": [
      "63\n",
      "{'A082', 'A901', 'B219', 'B341', 'A083', 'A092', 'B821', 'B439', 'B904', 'B818', 'A005', 'A461'}\n",
      "12\n"
     ]
    }
   ],
   "source": [
    "customer_id = ['B818', 'A461', 'A092', 'A082', 'B341', 'A005', 'A092', 'A461'\n",
    "               ,'B219', 'B904', 'A901', 'A083', 'B904', 'A092', 'B341', 'B821'\n",
    "               ,'B341', 'B821', 'B904', 'B818', 'A901', 'A083', 'B818', 'A082'\n",
    "               ,'B219', 'B219', 'A083', 'A901', 'A082', 'B341', 'B341', 'A083'\n",
    "               ,'A082', 'B219', 'B439', 'A461', 'A005', 'A901', 'B341', 'A082'\n",
    "               ,'A083', 'A461', 'A083', 'A901', 'A461', 'A083', 'A082', 'A083'\n",
    "               ,'B341', 'A901', 'A082', 'A461', 'B219', 'A083', 'B818', 'B821'\n",
    "               ,'A092', 'B341', 'A461', 'A092', 'A083', 'B821', 'A092']\n",
    "#set dtype , engga berulang  \n",
    "unique_customer_id = set(customer_id)\n",
    "print(len(customer_id))\n",
    "print(unique_customer_id)\n",
    "print(len(unique_customer_id))"
   ]
  },
  {
   "cell_type": "markdown",
   "metadata": {},
   "source": [
    "TASK #2\n",
    "\n",
    "Use indexing so you can get this output:\n",
    "\n",
    "a.16\n",
    "\n",
    "b.[36, 49, 64, 81]\n",
    "\n",
    "c.[100, 81, 64, 49, 36, 25, 16, 9, 4, 1]"
   ]
  },
  {
   "cell_type": "code",
   "execution_count": 44,
   "metadata": {},
   "outputs": [
    {
     "name": "stdout",
     "output_type": "stream",
     "text": [
      "16\n",
      "[36, 49, 64, 81]\n",
      "[100, 81, 64, 49, 36, 25, 16, 9, 4, 1]\n"
     ]
    }
   ],
   "source": [
    "Data = [1, 4, 9, 16, 25, 36, 49,  64, 81, 100]\n",
    "\n",
    "print(Data[3])\n",
    "\n",
    "# nama_data(awal : akir: step)\n",
    "print(Data[5:9:1])\n",
    "\n",
    "print(Data[::-1])\n",
    "# list  () , tuple [] , dictionary {}"
   ]
  },
  {
   "cell_type": "markdown",
   "metadata": {},
   "source": [
    "TASK #3\n",
    "\n",
    "\n",
    "What python command can be use to:\n",
    "\n",
    "a.Get list of keys available in dictionary\n",
    "\n",
    "b.Change 'Jawa Timur' value from 'Madiun'  to 'Surabaya'\n"
   ]
  },
  {
   "cell_type": "code",
   "execution_count": 43,
   "metadata": {},
   "outputs": [
    {
     "name": "stdout",
     "output_type": "stream",
     "text": [
      "['Nanggroe Aceh Darussalam', 'Sumatera Selatan', 'Kalimantan Barat', 'Jawa Timur', 'Sulawesi Selatan', 'Maluku']\n",
      "Surabaya\n"
     ]
    }
   ],
   "source": [
    "provinsi = {'Nanggroe Aceh Darussalam': 'Aceh',\n",
    "            'Sumatera Selatan': 'Palembang',\n",
    "            'Kalimantan Barat': 'Pontianak',\n",
    "            'Jawa Timur': 'Madiun',\n",
    "            'Sulawesi Selatan': 'Makassar',\n",
    "            'Maluku': 'Ambon'}\n",
    "\n",
    "x = list(provinsi.keys())\n",
    "print(x)\n",
    "\n",
    "provinsi['Jawa Timur']='Surabaya'\n",
    "print(provinsi['Jawa Timur'])\n"
   ]
  }
 ],
 "metadata": {
  "kernelspec": {
   "display_name": "Python 3",
   "language": "python",
   "name": "python3"
  },
  "language_info": {
   "codemirror_mode": {
    "name": "ipython",
    "version": 3
   },
   "file_extension": ".py",
   "mimetype": "text/x-python",
   "name": "python",
   "nbconvert_exporter": "python",
   "pygments_lexer": "ipython3",
   "version": "3.12.0"
  }
 },
 "nbformat": 4,
 "nbformat_minor": 2
}
